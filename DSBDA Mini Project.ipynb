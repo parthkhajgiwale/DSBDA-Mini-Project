{
 "cells": [
  {
   "cell_type": "code",
   "execution_count": 284,
   "id": "81b3d9da",
   "metadata": {},
   "outputs": [],
   "source": [
    "import pandas as pd\n",
    "import numpy as np\n",
    "import matplotlib.pyplot as plt\n",
    "from sklearn.preprocessing import LabelEncoder\n",
    "from sklearn.impute import SimpleImputer"
   ]
  },
  {
   "cell_type": "code",
   "execution_count": 285,
   "id": "1c71a0a0",
   "metadata": {},
   "outputs": [],
   "source": [
    "heart_df = pd.read_csv('heart.csv')"
   ]
  },
  {
   "cell_type": "code",
   "execution_count": 286,
   "id": "00caac4c",
   "metadata": {},
   "outputs": [],
   "source": [
    "def remove_outliers_inplace(df, column):\n",
    "    Q1 = df[column].quantile(0.25)\n",
    "    Q3 = df[column].quantile(0.75)\n",
    "    IQR = Q3 - Q1\n",
    "    lower_bound = Q1 - 1.5 * IQR\n",
    "    upper_bound = Q3 + 1.5 * IQR\n",
    "    df.drop(df[(df[column] < lower_bound) | (df[column] > upper_bound)].index, inplace=True)\n"
   ]
  },
  {
   "cell_type": "code",
   "execution_count": 287,
   "id": "7b5dbe34",
   "metadata": {},
   "outputs": [
    {
     "data": {
      "text/html": [
       "<div>\n",
       "<style scoped>\n",
       "    .dataframe tbody tr th:only-of-type {\n",
       "        vertical-align: middle;\n",
       "    }\n",
       "\n",
       "    .dataframe tbody tr th {\n",
       "        vertical-align: top;\n",
       "    }\n",
       "\n",
       "    .dataframe thead th {\n",
       "        text-align: right;\n",
       "    }\n",
       "</style>\n",
       "<table border=\"1\" class=\"dataframe\">\n",
       "  <thead>\n",
       "    <tr style=\"text-align: right;\">\n",
       "      <th></th>\n",
       "      <th>Age</th>\n",
       "      <th>sex</th>\n",
       "      <th>Chest Pain</th>\n",
       "      <th>Rest BP</th>\n",
       "      <th>Cholestrol</th>\n",
       "      <th>Fasting Blood Sugar</th>\n",
       "      <th>restecg</th>\n",
       "      <th>Max Heart Rate</th>\n",
       "      <th>Exercise Induced Angina</th>\n",
       "      <th>Old Peak</th>\n",
       "      <th>Slope</th>\n",
       "      <th>Vessel Count</th>\n",
       "      <th>Thallium</th>\n",
       "      <th>Outcome</th>\n",
       "    </tr>\n",
       "  </thead>\n",
       "  <tbody>\n",
       "    <tr>\n",
       "      <th>0</th>\n",
       "      <td>52</td>\n",
       "      <td>Male</td>\n",
       "      <td>Angina Pectoris</td>\n",
       "      <td>125.0</td>\n",
       "      <td>212.0</td>\n",
       "      <td>False</td>\n",
       "      <td>Arrhythmia</td>\n",
       "      <td>168.0</td>\n",
       "      <td>no</td>\n",
       "      <td>1.0</td>\n",
       "      <td>Downsloping</td>\n",
       "      <td>2.0</td>\n",
       "      <td>Reversible Defect</td>\n",
       "      <td>Negative</td>\n",
       "    </tr>\n",
       "    <tr>\n",
       "      <th>1</th>\n",
       "      <td>53</td>\n",
       "      <td>Male</td>\n",
       "      <td>Angina Pectoris</td>\n",
       "      <td>140.0</td>\n",
       "      <td>203.0</td>\n",
       "      <td>True</td>\n",
       "      <td>NSR</td>\n",
       "      <td>155.0</td>\n",
       "      <td>yes</td>\n",
       "      <td>3.1</td>\n",
       "      <td>Upsloping</td>\n",
       "      <td>0.0</td>\n",
       "      <td>Reversible Defect</td>\n",
       "      <td>Negative</td>\n",
       "    </tr>\n",
       "    <tr>\n",
       "      <th>2</th>\n",
       "      <td>70</td>\n",
       "      <td>Male</td>\n",
       "      <td>Angina Pectoris</td>\n",
       "      <td>145.0</td>\n",
       "      <td>174.0</td>\n",
       "      <td>False</td>\n",
       "      <td>Arrhythmia</td>\n",
       "      <td>125.0</td>\n",
       "      <td>yes</td>\n",
       "      <td>2.6</td>\n",
       "      <td>Upsloping</td>\n",
       "      <td>0.0</td>\n",
       "      <td>Reversible Defect</td>\n",
       "      <td>Negative</td>\n",
       "    </tr>\n",
       "    <tr>\n",
       "      <th>3</th>\n",
       "      <td>61</td>\n",
       "      <td>Male</td>\n",
       "      <td>Angina Pectoris</td>\n",
       "      <td>148.0</td>\n",
       "      <td>203.0</td>\n",
       "      <td>False</td>\n",
       "      <td>Arrhythmia</td>\n",
       "      <td>161.0</td>\n",
       "      <td>no</td>\n",
       "      <td>0.0</td>\n",
       "      <td>Downsloping</td>\n",
       "      <td>1.0</td>\n",
       "      <td>Reversible Defect</td>\n",
       "      <td>Negative</td>\n",
       "    </tr>\n",
       "    <tr>\n",
       "      <th>4</th>\n",
       "      <td>62</td>\n",
       "      <td>Female</td>\n",
       "      <td>Angina Pectoris</td>\n",
       "      <td>138.0</td>\n",
       "      <td>294.0</td>\n",
       "      <td>True</td>\n",
       "      <td>Arrhythmia</td>\n",
       "      <td>106.0</td>\n",
       "      <td>no</td>\n",
       "      <td>1.9</td>\n",
       "      <td>Horizontal</td>\n",
       "      <td>3.0</td>\n",
       "      <td>Fixed Defect</td>\n",
       "      <td>Negative</td>\n",
       "    </tr>\n",
       "  </tbody>\n",
       "</table>\n",
       "</div>"
      ],
      "text/plain": [
       "   Age     sex       Chest Pain  Rest BP  Cholestrol Fasting Blood Sugar  \\\n",
       "0   52    Male  Angina Pectoris    125.0       212.0               False   \n",
       "1   53    Male  Angina Pectoris    140.0       203.0                True   \n",
       "2   70    Male  Angina Pectoris    145.0       174.0               False   \n",
       "3   61    Male  Angina Pectoris    148.0       203.0               False   \n",
       "4   62  Female  Angina Pectoris    138.0       294.0                True   \n",
       "\n",
       "      restecg  Max Heart Rate Exercise Induced Angina  Old Peak  \\\n",
       "0  Arrhythmia           168.0                      no       1.0   \n",
       "1         NSR           155.0                     yes       3.1   \n",
       "2  Arrhythmia           125.0                     yes       2.6   \n",
       "3  Arrhythmia           161.0                      no       0.0   \n",
       "4  Arrhythmia           106.0                      no       1.9   \n",
       "\n",
       "           Slope  Vessel Count           Thallium   Outcome  \n",
       "0  Downsloping             2.0  Reversible Defect  Negative  \n",
       "1     Upsloping            0.0  Reversible Defect  Negative  \n",
       "2     Upsloping            0.0  Reversible Defect  Negative  \n",
       "3  Downsloping             1.0  Reversible Defect  Negative  \n",
       "4    Horizontal            3.0       Fixed Defect  Negative  "
      ]
     },
     "execution_count": 287,
     "metadata": {},
     "output_type": "execute_result"
    }
   ],
   "source": [
    "heart_df.head(5)"
   ]
  },
  {
   "cell_type": "code",
   "execution_count": 288,
   "id": "d56de704",
   "metadata": {},
   "outputs": [
    {
     "name": "stdout",
     "output_type": "stream",
     "text": [
      "<class 'pandas.core.frame.DataFrame'>\n",
      "RangeIndex: 1025 entries, 0 to 1024\n",
      "Data columns (total 14 columns):\n",
      " #   Column                   Non-Null Count  Dtype  \n",
      "---  ------                   --------------  -----  \n",
      " 0   Age                      1025 non-null   int64  \n",
      " 1   sex                      1008 non-null   object \n",
      " 2   Chest Pain               1017 non-null   object \n",
      " 3   Rest BP                  1018 non-null   float64\n",
      " 4   Cholestrol               1022 non-null   float64\n",
      " 5   Fasting Blood Sugar      1018 non-null   object \n",
      " 6   restecg                  1020 non-null   object \n",
      " 7   Max Heart Rate           1019 non-null   float64\n",
      " 8   Exercise Induced Angina  1017 non-null   object \n",
      " 9   Old Peak                 1022 non-null   float64\n",
      " 10  Slope                    1014 non-null   object \n",
      " 11  Vessel Count             1020 non-null   float64\n",
      " 12  Thallium                 1015 non-null   object \n",
      " 13  Outcome                  1016 non-null   object \n",
      "dtypes: float64(5), int64(1), object(8)\n",
      "memory usage: 112.2+ KB\n"
     ]
    }
   ],
   "source": [
    "heart_df.info()"
   ]
  },
  {
   "cell_type": "code",
   "execution_count": 289,
   "id": "24e8968b",
   "metadata": {},
   "outputs": [
    {
     "data": {
      "text/plain": [
       "Age                         0\n",
       "sex                        17\n",
       "Chest Pain                  8\n",
       "Rest BP                     7\n",
       "Cholestrol                  3\n",
       "Fasting Blood Sugar         7\n",
       "restecg                     5\n",
       "Max Heart Rate              6\n",
       "Exercise Induced Angina     8\n",
       "Old Peak                    3\n",
       "Slope                      11\n",
       "Vessel Count                5\n",
       "Thallium                   10\n",
       "Outcome                     9\n",
       "dtype: int64"
      ]
     },
     "execution_count": 289,
     "metadata": {},
     "output_type": "execute_result"
    }
   ],
   "source": [
    "heart_df.isnull().sum()"
   ]
  },
  {
   "cell_type": "code",
   "execution_count": 290,
   "id": "bd8caf3c",
   "metadata": {},
   "outputs": [],
   "source": [
    "imputer = SimpleImputer(strategy='most_frequent')\n",
    "heart_df['sex'] = imputer.fit_transform(heart_df[['sex']])"
   ]
  },
  {
   "cell_type": "code",
   "execution_count": 291,
   "id": "41f87427",
   "metadata": {},
   "outputs": [],
   "source": [
    "heart_df.dropna(subset=['Chest Pain'], inplace=True)"
   ]
  },
  {
   "cell_type": "code",
   "execution_count": 292,
   "id": "0b8bd3f1",
   "metadata": {},
   "outputs": [],
   "source": [
    "heart_df['Rest BP'].fillna(120, inplace=True)"
   ]
  },
  {
   "cell_type": "code",
   "execution_count": 293,
   "id": "c2f8c2f2",
   "metadata": {},
   "outputs": [],
   "source": [
    "# A total cholesterol level of less than 200 mg/dL (5.17 mmol/L) is normal; Mean is 193\n",
    "cholestrol_mean = heart_df['Cholestrol'].mean()\n",
    "heart_df['Cholestrol'].fillna(cholestrol_mean, inplace=True)"
   ]
  },
  {
   "cell_type": "code",
   "execution_count": 294,
   "id": "b9f46a6c",
   "metadata": {},
   "outputs": [],
   "source": [
    "heart_df['Fasting Blood Sugar'] = imputer.fit_transform(heart_df[['Fasting Blood Sugar']])"
   ]
  },
  {
   "cell_type": "code",
   "execution_count": 295,
   "id": "2e7b6e53",
   "metadata": {},
   "outputs": [],
   "source": [
    "heart_df.dropna(subset=['restecg'], inplace=True)"
   ]
  },
  {
   "cell_type": "code",
   "execution_count": 296,
   "id": "0d216bf1",
   "metadata": {},
   "outputs": [],
   "source": [
    "mean_imputer = SimpleImputer(strategy='mean')\n",
    "\n",
    "heart_df['Max Heart Rate'] = mean_imputer.fit_transform(heart_df[['Max Heart Rate']])"
   ]
  },
  {
   "cell_type": "code",
   "execution_count": 297,
   "id": "8577e3fb",
   "metadata": {},
   "outputs": [],
   "source": [
    "heart_df.dropna(subset=['Exercise Induced Angina'], inplace=True)"
   ]
  },
  {
   "cell_type": "code",
   "execution_count": 298,
   "id": "db385d17",
   "metadata": {},
   "outputs": [],
   "source": [
    "heart_df.dropna(subset=['Old Peak'], inplace=True)"
   ]
  },
  {
   "cell_type": "code",
   "execution_count": 299,
   "id": "cd1f46d8",
   "metadata": {},
   "outputs": [],
   "source": [
    "heart_df['Slope'] = imputer.fit_transform(heart_df[['Slope']])"
   ]
  },
  {
   "cell_type": "code",
   "execution_count": 300,
   "id": "3e6350ee",
   "metadata": {},
   "outputs": [],
   "source": [
    "heart_df.dropna(subset=['Vessel Count'], inplace=True)"
   ]
  },
  {
   "cell_type": "code",
   "execution_count": 301,
   "id": "ce4068d7",
   "metadata": {},
   "outputs": [],
   "source": [
    "heart_df['Thallium'] = imputer.fit_transform(heart_df[['Thallium']])"
   ]
  },
  {
   "cell_type": "code",
   "execution_count": 302,
   "id": "18ae4917",
   "metadata": {},
   "outputs": [],
   "source": [
    "heart_df.dropna(subset=['Outcome'], inplace=True)"
   ]
  },
  {
   "cell_type": "code",
   "execution_count": 303,
   "id": "11ad240a",
   "metadata": {},
   "outputs": [
    {
     "data": {
      "text/plain": [
       "Age                        0\n",
       "sex                        0\n",
       "Chest Pain                 0\n",
       "Rest BP                    0\n",
       "Cholestrol                 0\n",
       "Fasting Blood Sugar        0\n",
       "restecg                    0\n",
       "Max Heart Rate             0\n",
       "Exercise Induced Angina    0\n",
       "Old Peak                   0\n",
       "Slope                      0\n",
       "Vessel Count               0\n",
       "Thallium                   0\n",
       "Outcome                    0\n",
       "dtype: int64"
      ]
     },
     "execution_count": 303,
     "metadata": {},
     "output_type": "execute_result"
    }
   ],
   "source": [
    "heart_df.isnull().sum()"
   ]
  },
  {
   "cell_type": "code",
   "execution_count": 304,
   "id": "b7ee0da7",
   "metadata": {},
   "outputs": [],
   "source": [
    "remove_outliers_inplace(heart_df, 'Rest BP')\n",
    "remove_outliers_inplace(heart_df, 'Cholestrol')\n",
    "remove_outliers_inplace(heart_df, 'Max Heart Rate')\n",
    "remove_outliers_inplace(heart_df, 'Old Peak')"
   ]
  },
  {
   "cell_type": "code",
   "execution_count": 305,
   "id": "95048486",
   "metadata": {},
   "outputs": [
    {
     "data": {
      "image/png": "[encoded data removed]",
      "text/plain": [
       "<Figure size 720x432 with 1 Axes>"
      ]
     },
     "metadata": {
      "needs_background": "light"
     },
     "output_type": "display_data"
    }
   ],
   "source": [
    "plt.figure(figsize=(10, 6)) \n",
    "plt.bar(heart_df['Max Heart Rate'].value_counts().index, heart_df['Max Heart Rate'].value_counts().values)\n",
    "plt.xlabel('Max Heart Rate')\n",
    "plt.ylabel('Count')\n",
    "plt.title('Distribution of Max Heart Rate in Heart Data')\n",
    "plt.show()"
   ]
  },
  {
   "cell_type": "code",
   "execution_count": 306,
   "id": "e3b9c10b",
   "metadata": {},
   "outputs": [],
   "source": [
    "from sklearn.preprocessing import MinMaxScaler\n",
    "scaler = MinMaxScaler()\n",
    "numerical_columns = ['Rest BP', 'Cholestrol', 'Max Heart Rate']\n",
    "heart_df[numerical_columns] = scaler.fit_transform(heart_df[numerical_columns])"
   ]
  },
  {
   "cell_type": "code",
   "execution_count": 307,
   "id": "1cbd4dc8",
   "metadata": {},
   "outputs": [
    {
     "data": {
      "text/html": [
       "<div>\n",
       "<style scoped>\n",
       "    .dataframe tbody tr th:only-of-type {\n",
       "        vertical-align: middle;\n",
       "    }\n",
       "\n",
       "    .dataframe tbody tr th {\n",
       "        vertical-align: top;\n",
       "    }\n",
       "\n",
       "    .dataframe thead th {\n",
       "        text-align: right;\n",
       "    }\n",
       "</style>\n",
       "<table border=\"1\" class=\"dataframe\">\n",
       "  <thead>\n",
       "    <tr style=\"text-align: right;\">\n",
       "      <th></th>\n",
       "      <th>Age</th>\n",
       "      <th>sex</th>\n",
       "      <th>Chest Pain</th>\n",
       "      <th>Rest BP</th>\n",
       "      <th>Cholestrol</th>\n",
       "      <th>Fasting Blood Sugar</th>\n",
       "      <th>restecg</th>\n",
       "      <th>Max Heart Rate</th>\n",
       "      <th>Exercise Induced Angina</th>\n",
       "      <th>Old Peak</th>\n",
       "      <th>Slope</th>\n",
       "      <th>Vessel Count</th>\n",
       "      <th>Thallium</th>\n",
       "      <th>Outcome</th>\n",
       "    </tr>\n",
       "  </thead>\n",
       "  <tbody>\n",
       "    <tr>\n",
       "      <th>0</th>\n",
       "      <td>52</td>\n",
       "      <td>Male</td>\n",
       "      <td>Angina Pectoris</td>\n",
       "      <td>0.407895</td>\n",
       "      <td>0.367521</td>\n",
       "      <td>False</td>\n",
       "      <td>Arrhythmia</td>\n",
       "      <td>0.701754</td>\n",
       "      <td>no</td>\n",
       "      <td>1.0</td>\n",
       "      <td>Downsloping</td>\n",
       "      <td>2.0</td>\n",
       "      <td>Reversible Defect</td>\n",
       "      <td>Negative</td>\n",
       "    </tr>\n",
       "    <tr>\n",
       "      <th>1</th>\n",
       "      <td>53</td>\n",
       "      <td>Male</td>\n",
       "      <td>Angina Pectoris</td>\n",
       "      <td>0.605263</td>\n",
       "      <td>0.329060</td>\n",
       "      <td>True</td>\n",
       "      <td>NSR</td>\n",
       "      <td>0.587719</td>\n",
       "      <td>yes</td>\n",
       "      <td>3.1</td>\n",
       "      <td>Upsloping</td>\n",
       "      <td>0.0</td>\n",
       "      <td>Reversible Defect</td>\n",
       "      <td>Negative</td>\n",
       "    </tr>\n",
       "    <tr>\n",
       "      <th>2</th>\n",
       "      <td>70</td>\n",
       "      <td>Male</td>\n",
       "      <td>Angina Pectoris</td>\n",
       "      <td>0.671053</td>\n",
       "      <td>0.205128</td>\n",
       "      <td>False</td>\n",
       "      <td>Arrhythmia</td>\n",
       "      <td>0.324561</td>\n",
       "      <td>yes</td>\n",
       "      <td>2.6</td>\n",
       "      <td>Upsloping</td>\n",
       "      <td>0.0</td>\n",
       "      <td>Reversible Defect</td>\n",
       "      <td>Negative</td>\n",
       "    </tr>\n",
       "    <tr>\n",
       "      <th>3</th>\n",
       "      <td>61</td>\n",
       "      <td>Male</td>\n",
       "      <td>Angina Pectoris</td>\n",
       "      <td>0.710526</td>\n",
       "      <td>0.329060</td>\n",
       "      <td>False</td>\n",
       "      <td>Arrhythmia</td>\n",
       "      <td>0.640351</td>\n",
       "      <td>no</td>\n",
       "      <td>0.0</td>\n",
       "      <td>Downsloping</td>\n",
       "      <td>1.0</td>\n",
       "      <td>Reversible Defect</td>\n",
       "      <td>Negative</td>\n",
       "    </tr>\n",
       "    <tr>\n",
       "      <th>4</th>\n",
       "      <td>62</td>\n",
       "      <td>Female</td>\n",
       "      <td>Angina Pectoris</td>\n",
       "      <td>0.578947</td>\n",
       "      <td>0.717949</td>\n",
       "      <td>True</td>\n",
       "      <td>Arrhythmia</td>\n",
       "      <td>0.157895</td>\n",
       "      <td>no</td>\n",
       "      <td>1.9</td>\n",
       "      <td>Horizontal</td>\n",
       "      <td>3.0</td>\n",
       "      <td>Fixed Defect</td>\n",
       "      <td>Negative</td>\n",
       "    </tr>\n",
       "    <tr>\n",
       "      <th>...</th>\n",
       "      <td>...</td>\n",
       "      <td>...</td>\n",
       "      <td>...</td>\n",
       "      <td>...</td>\n",
       "      <td>...</td>\n",
       "      <td>...</td>\n",
       "      <td>...</td>\n",
       "      <td>...</td>\n",
       "      <td>...</td>\n",
       "      <td>...</td>\n",
       "      <td>...</td>\n",
       "      <td>...</td>\n",
       "      <td>...</td>\n",
       "      <td>...</td>\n",
       "    </tr>\n",
       "    <tr>\n",
       "      <th>1020</th>\n",
       "      <td>59</td>\n",
       "      <td>Male</td>\n",
       "      <td>Myocardial Infarction</td>\n",
       "      <td>0.605263</td>\n",
       "      <td>0.405983</td>\n",
       "      <td>False</td>\n",
       "      <td>Arrhythmia</td>\n",
       "      <td>0.666667</td>\n",
       "      <td>yes</td>\n",
       "      <td>0.0</td>\n",
       "      <td>Downsloping</td>\n",
       "      <td>0.0</td>\n",
       "      <td>Fixed Defect</td>\n",
       "      <td>Positive</td>\n",
       "    </tr>\n",
       "    <tr>\n",
       "      <th>1021</th>\n",
       "      <td>60</td>\n",
       "      <td>Male</td>\n",
       "      <td>Angina Pectoris</td>\n",
       "      <td>0.407895</td>\n",
       "      <td>0.564103</td>\n",
       "      <td>False</td>\n",
       "      <td>NSR</td>\n",
       "      <td>0.464912</td>\n",
       "      <td>yes</td>\n",
       "      <td>2.8</td>\n",
       "      <td>Horizontal</td>\n",
       "      <td>1.0</td>\n",
       "      <td>Reversible Defect</td>\n",
       "      <td>Negative</td>\n",
       "    </tr>\n",
       "    <tr>\n",
       "      <th>1022</th>\n",
       "      <td>47</td>\n",
       "      <td>Male</td>\n",
       "      <td>Angina Pectoris</td>\n",
       "      <td>0.210526</td>\n",
       "      <td>0.636752</td>\n",
       "      <td>False</td>\n",
       "      <td>NSR</td>\n",
       "      <td>0.263158</td>\n",
       "      <td>yes</td>\n",
       "      <td>1.0</td>\n",
       "      <td>Horizontal</td>\n",
       "      <td>1.0</td>\n",
       "      <td>Fixed Defect</td>\n",
       "      <td>Negative</td>\n",
       "    </tr>\n",
       "    <tr>\n",
       "      <th>1023</th>\n",
       "      <td>50</td>\n",
       "      <td>Female</td>\n",
       "      <td>Angina Pectoris</td>\n",
       "      <td>0.210526</td>\n",
       "      <td>0.547009</td>\n",
       "      <td>False</td>\n",
       "      <td>NSR</td>\n",
       "      <td>0.622807</td>\n",
       "      <td>no</td>\n",
       "      <td>0.0</td>\n",
       "      <td>Downsloping</td>\n",
       "      <td>0.0</td>\n",
       "      <td>Fixed Defect</td>\n",
       "      <td>Positive</td>\n",
       "    </tr>\n",
       "    <tr>\n",
       "      <th>1024</th>\n",
       "      <td>54</td>\n",
       "      <td>Male</td>\n",
       "      <td>Angina Pectoris</td>\n",
       "      <td>0.342105</td>\n",
       "      <td>0.264957</td>\n",
       "      <td>False</td>\n",
       "      <td>Arrhythmia</td>\n",
       "      <td>0.219298</td>\n",
       "      <td>no</td>\n",
       "      <td>1.4</td>\n",
       "      <td>Horizontal</td>\n",
       "      <td>1.0</td>\n",
       "      <td>Reversible Defect</td>\n",
       "      <td>Negative</td>\n",
       "    </tr>\n",
       "  </tbody>\n",
       "</table>\n",
       "<p>932 rows × 14 columns</p>\n",
       "</div>"
      ],
      "text/plain": [
       "      Age     sex             Chest Pain   Rest BP  Cholestrol  \\\n",
       "0      52    Male        Angina Pectoris  0.407895    0.367521   \n",
       "1      53    Male        Angina Pectoris  0.605263    0.329060   \n",
       "2      70    Male        Angina Pectoris  0.671053    0.205128   \n",
       "3      61    Male        Angina Pectoris  0.710526    0.329060   \n",
       "4      62  Female        Angina Pectoris  0.578947    0.717949   \n",
       "...   ...     ...                    ...       ...         ...   \n",
       "1020   59    Male  Myocardial Infarction  0.605263    0.405983   \n",
       "1021   60    Male        Angina Pectoris  0.407895    0.564103   \n",
       "1022   47    Male        Angina Pectoris  0.210526    0.636752   \n",
       "1023   50  Female        Angina Pectoris  0.210526    0.547009   \n",
       "1024   54    Male        Angina Pectoris  0.342105    0.264957   \n",
       "\n",
       "     Fasting Blood Sugar     restecg  Max Heart Rate Exercise Induced Angina  \\\n",
       "0                  False  Arrhythmia        0.701754                      no   \n",
       "1                   True         NSR        0.587719                     yes   \n",
       "2                  False  Arrhythmia        0.324561                     yes   \n",
       "3                  False  Arrhythmia        0.640351                      no   \n",
       "4                   True  Arrhythmia        0.157895                      no   \n",
       "...                  ...         ...             ...                     ...   \n",
       "1020               False  Arrhythmia        0.666667                     yes   \n",
       "1021               False         NSR        0.464912                     yes   \n",
       "1022               False         NSR        0.263158                     yes   \n",
       "1023               False         NSR        0.622807                      no   \n",
       "1024               False  Arrhythmia        0.219298                      no   \n",
       "\n",
       "      Old Peak          Slope  Vessel Count           Thallium   Outcome  \n",
       "0          1.0  Downsloping             2.0  Reversible Defect  Negative  \n",
       "1          3.1     Upsloping            0.0  Reversible Defect  Negative  \n",
       "2          2.6     Upsloping            0.0  Reversible Defect  Negative  \n",
       "3          0.0  Downsloping             1.0  Reversible Defect  Negative  \n",
       "4          1.9    Horizontal            3.0       Fixed Defect  Negative  \n",
       "...        ...            ...           ...                ...       ...  \n",
       "1020       0.0  Downsloping             0.0       Fixed Defect  Positive  \n",
       "1021       2.8    Horizontal            1.0  Reversible Defect  Negative  \n",
       "1022       1.0    Horizontal            1.0       Fixed Defect  Negative  \n",
       "1023       0.0  Downsloping             0.0       Fixed Defect  Positive  \n",
       "1024       1.4    Horizontal            1.0  Reversible Defect  Negative  \n",
       "\n",
       "[932 rows x 14 columns]"
      ]
     },
     "execution_count": 307,
     "metadata": {},
     "output_type": "execute_result"
    }
   ],
   "source": [
    "heart_df"
   ]
  },
  {
   "cell_type": "code",
   "execution_count": 308,
   "id": "c8813b1e",
   "metadata": {},
   "outputs": [],
   "source": [
    "heart_df.rename(columns={'Exercise Induced Angina' : 'eia', 'Fasting Blood Sugar': 'fbs'}, inplace=True)\n",
    "heart_df.sex.replace({\"Male\":1, \"Female\":-1}, inplace= True)\n",
    "heart_df.eia.replace({\"yes\":1, \"no\":0}, inplace= True)"
   ]
  },
  {
   "cell_type": "code",
   "execution_count": 309,
   "id": "3b35ed0b",
   "metadata": {},
   "outputs": [],
   "source": [
    "label_encoder = LabelEncoder()\n",
    "heart_df['restecg']=label_encoder.fit_transform(heart_categorical['restecg'])\n",
    "heart_df['Chest Pain']=label_encoder.fit_transform(heart_categorical['Chest Pain'])\n",
    "heart_df['Thallium']=label_encoder.fit_transform(heart_categorical['Thallium'])\n",
    "heart_df['Outcome']=label_encoder.fit_transform(heart_categorical['Outcome'])\n",
    "heart_df['Slope']=label_encoder.fit_transform(heart_categorical['Slope'])\n",
    "heart_df['fbs']=label_encoder.fit_transform(heart_categorical['fbs'])"
   ]
  },
  {
   "cell_type": "code",
   "execution_count": 310,
   "id": "ba2fa2c6",
   "metadata": {},
   "outputs": [
    {
     "data": {
      "image/png": "[encoded data removed]",
      "text/plain": [
       "<Figure size 720x432 with 1 Axes>"
      ]
     },
     "metadata": {
      "needs_background": "light"
     },
     "output_type": "display_data"
    }
   ],
   "source": [
    "plt.figure(figsize=(10, 6)) \n",
    "plt.bar(heart_df['Age'].value_counts().index, heart_df['Age'].value_counts().values)\n",
    "plt.xlabel('Age')\n",
    "plt.ylabel('Count')\n",
    "plt.title('Distribution of Age in Heart Data')\n",
    "plt.show()\n"
   ]
  },
  {
   "cell_type": "code",
   "execution_count": 317,
   "id": "0cf9eaa9",
   "metadata": {},
   "outputs": [
    {
     "data": {
      "image/png": "[encoded data removed]",
      "text/plain": [
       "<Figure size 432x288 with 1 Axes>"
      ]
     },
     "metadata": {
      "needs_background": "light"
     },
     "output_type": "display_data"
    }
   ],
   "source": [
    "male_data = heart_df[heart_df['sex'] == 1]\n",
    "female_data = heart_df[heart_df['sex'] == -1]\n",
    "plt.hist(male_data['sex'], bins=[-1, 1], color='blue', alpha=0.5, label='Male')\n",
    "plt.hist(female_data['sex'], bins=[-1, 1], color='pink', alpha=0.5, label='Female')\n",
    "plt.xlabel('Sex')\n",
    "plt.ylabel('Frequency')\n",
    "plt.title('Histogram of Sex in Heart Disease Dataset')\n",
    "plt.xticks([-1, 1], ['Female','Male']) \n",
    "plt.legend()\n",
    "plt.show()"
   ]
  },
  {
   "cell_type": "code",
   "execution_count": 318,
   "id": "d84753a0",
   "metadata": {},
   "outputs": [
    {
     "data": {
      "image/png": "[encoded data removed]",
      "text/plain": [
       "<Figure size 432x432 with 1 Axes>"
      ]
     },
     "metadata": {},
     "output_type": "display_data"
    }
   ],
   "source": [
    "outcome_counts = heart_df['Outcome'].value_counts()\n",
    "labels = ['True', 'False']\n",
    "colors = ['#1f77b4', '#ff7f0e']\n",
    "plt.figure(figsize=(6, 6))\n",
    "plt.pie(outcome_counts, labels=labels, colors=colors, autopct='%1.1f%%', startangle=90)\n",
    "plt.title('Outcome Distribution')\n",
    "plt.axis('equal') \n",
    "plt.show()"
   ]
  },
  {
   "cell_type": "code",
   "execution_count": null,
   "id": "08cfefb3",
   "metadata": {},
   "outputs": [],
   "source": []
  }
 ],
 "metadata": {
  "kernelspec": {
   "display_name": "Python 3 (ipykernel)",
   "language": "python",
   "name": "python3"
  },
  "language_info": {
   "codemirror_mode": {
    "name": "ipython",
    "version": 3
   },
   "file_extension": ".py",
   "mimetype": "text/x-python",
   "name": "python",
   "nbconvert_exporter": "python",
   "pygments_lexer": "ipython3",
   "version": "3.9.7"
  }
 },
 "nbformat": 4,
 "nbformat_minor": 5
}
